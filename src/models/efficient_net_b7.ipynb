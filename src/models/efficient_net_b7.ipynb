{
  "cells": [
    {
      "cell_type": "markdown",
      "source": [
        "# Install Dependencies"
      ],
      "metadata": {
        "id": "9B8zL3hKe95Z"
      }
    },
    {
      "cell_type": "code",
      "source": [
        "!pip install efficientnet-pytorch\n",
        "!pip install torch-optimizer"
      ],
      "metadata": {
        "colab": {
          "base_uri": "https://localhost:8080/"
        },
        "id": "2zTXukZle7VZ",
        "outputId": "45ac78b2-ec0f-4765-f65f-d617adc5e56a"
      },
      "execution_count": null,
      "outputs": [
        {
          "output_type": "stream",
          "name": "stdout",
          "text": [
            "Collecting efficientnet-pytorch\n",
            "  Downloading efficientnet_pytorch-0.7.1.tar.gz (21 kB)\n",
            "  Preparing metadata (setup.py) ... \u001b[?25l\u001b[?25hdone\n",
            "Requirement already satisfied: torch in /usr/local/lib/python3.10/dist-packages (from efficientnet-pytorch) (2.2.1+cu121)\n",
            "Requirement already satisfied: filelock in /usr/local/lib/python3.10/dist-packages (from torch->efficientnet-pytorch) (3.14.0)\n",
            "Requirement already satisfied: typing-extensions>=4.8.0 in /usr/local/lib/python3.10/dist-packages (from torch->efficientnet-pytorch) (4.11.0)\n",
            "Requirement already satisfied: sympy in /usr/local/lib/python3.10/dist-packages (from torch->efficientnet-pytorch) (1.12)\n",
            "Requirement already satisfied: networkx in /usr/local/lib/python3.10/dist-packages (from torch->efficientnet-pytorch) (3.3)\n",
            "Requirement already satisfied: jinja2 in /usr/local/lib/python3.10/dist-packages (from torch->efficientnet-pytorch) (3.1.3)\n",
            "Requirement already satisfied: fsspec in /usr/local/lib/python3.10/dist-packages (from torch->efficientnet-pytorch) (2023.6.0)\n",
            "Collecting nvidia-cuda-nvrtc-cu12==12.1.105 (from torch->efficientnet-pytorch)\n",
            "  Using cached nvidia_cuda_nvrtc_cu12-12.1.105-py3-none-manylinux1_x86_64.whl (23.7 MB)\n",
            "Collecting nvidia-cuda-runtime-cu12==12.1.105 (from torch->efficientnet-pytorch)\n",
            "  Using cached nvidia_cuda_runtime_cu12-12.1.105-py3-none-manylinux1_x86_64.whl (823 kB)\n",
            "Collecting nvidia-cuda-cupti-cu12==12.1.105 (from torch->efficientnet-pytorch)\n",
            "  Using cached nvidia_cuda_cupti_cu12-12.1.105-py3-none-manylinux1_x86_64.whl (14.1 MB)\n",
            "Collecting nvidia-cudnn-cu12==8.9.2.26 (from torch->efficientnet-pytorch)\n",
            "  Using cached nvidia_cudnn_cu12-8.9.2.26-py3-none-manylinux1_x86_64.whl (731.7 MB)\n",
            "Collecting nvidia-cublas-cu12==12.1.3.1 (from torch->efficientnet-pytorch)\n",
            "  Using cached nvidia_cublas_cu12-12.1.3.1-py3-none-manylinux1_x86_64.whl (410.6 MB)\n",
            "Collecting nvidia-cufft-cu12==11.0.2.54 (from torch->efficientnet-pytorch)\n",
            "  Using cached nvidia_cufft_cu12-11.0.2.54-py3-none-manylinux1_x86_64.whl (121.6 MB)\n",
            "Collecting nvidia-curand-cu12==10.3.2.106 (from torch->efficientnet-pytorch)\n",
            "  Using cached nvidia_curand_cu12-10.3.2.106-py3-none-manylinux1_x86_64.whl (56.5 MB)\n",
            "Collecting nvidia-cusolver-cu12==11.4.5.107 (from torch->efficientnet-pytorch)\n",
            "  Using cached nvidia_cusolver_cu12-11.4.5.107-py3-none-manylinux1_x86_64.whl (124.2 MB)\n",
            "Collecting nvidia-cusparse-cu12==12.1.0.106 (from torch->efficientnet-pytorch)\n",
            "  Using cached nvidia_cusparse_cu12-12.1.0.106-py3-none-manylinux1_x86_64.whl (196.0 MB)\n",
            "Collecting nvidia-nccl-cu12==2.19.3 (from torch->efficientnet-pytorch)\n",
            "  Using cached nvidia_nccl_cu12-2.19.3-py3-none-manylinux1_x86_64.whl (166.0 MB)\n",
            "Collecting nvidia-nvtx-cu12==12.1.105 (from torch->efficientnet-pytorch)\n",
            "  Using cached nvidia_nvtx_cu12-12.1.105-py3-none-manylinux1_x86_64.whl (99 kB)\n",
            "Requirement already satisfied: triton==2.2.0 in /usr/local/lib/python3.10/dist-packages (from torch->efficientnet-pytorch) (2.2.0)\n",
            "Collecting nvidia-nvjitlink-cu12 (from nvidia-cusolver-cu12==11.4.5.107->torch->efficientnet-pytorch)\n",
            "  Using cached nvidia_nvjitlink_cu12-12.4.127-py3-none-manylinux2014_x86_64.whl (21.1 MB)\n",
            "Requirement already satisfied: MarkupSafe>=2.0 in /usr/local/lib/python3.10/dist-packages (from jinja2->torch->efficientnet-pytorch) (2.1.5)\n",
            "Requirement already satisfied: mpmath>=0.19 in /usr/local/lib/python3.10/dist-packages (from sympy->torch->efficientnet-pytorch) (1.3.0)\n",
            "Building wheels for collected packages: efficientnet-pytorch\n",
            "  Building wheel for efficientnet-pytorch (setup.py) ... \u001b[?25l\u001b[?25hdone\n",
            "  Created wheel for efficientnet-pytorch: filename=efficientnet_pytorch-0.7.1-py3-none-any.whl size=16429 sha256=a49cda13adb1ee4f498162c797d281c88fe00b533015a695c7aa084326a45698\n",
            "  Stored in directory: /root/.cache/pip/wheels/03/3f/e9/911b1bc46869644912bda90a56bcf7b960f20b5187feea3baf\n",
            "Successfully built efficientnet-pytorch\n",
            "Installing collected packages: nvidia-nvtx-cu12, nvidia-nvjitlink-cu12, nvidia-nccl-cu12, nvidia-curand-cu12, nvidia-cufft-cu12, nvidia-cuda-runtime-cu12, nvidia-cuda-nvrtc-cu12, nvidia-cuda-cupti-cu12, nvidia-cublas-cu12, nvidia-cusparse-cu12, nvidia-cudnn-cu12, nvidia-cusolver-cu12, efficientnet-pytorch\n",
            "Successfully installed efficientnet-pytorch-0.7.1 nvidia-cublas-cu12-12.1.3.1 nvidia-cuda-cupti-cu12-12.1.105 nvidia-cuda-nvrtc-cu12-12.1.105 nvidia-cuda-runtime-cu12-12.1.105 nvidia-cudnn-cu12-8.9.2.26 nvidia-cufft-cu12-11.0.2.54 nvidia-curand-cu12-10.3.2.106 nvidia-cusolver-cu12-11.4.5.107 nvidia-cusparse-cu12-12.1.0.106 nvidia-nccl-cu12-2.19.3 nvidia-nvjitlink-cu12-12.4.127 nvidia-nvtx-cu12-12.1.105\n",
            "Collecting torch-optimizer\n",
            "  Downloading torch_optimizer-0.3.0-py3-none-any.whl (61 kB)\n",
            "\u001b[2K     \u001b[90m━━━━━━━━━━━━━━━━━━━━━━━━━━━━━━━━━━━━━━━━\u001b[0m \u001b[32m61.9/61.9 kB\u001b[0m \u001b[31m2.5 MB/s\u001b[0m eta \u001b[36m0:00:00\u001b[0m\n",
            "\u001b[?25hRequirement already satisfied: torch>=1.5.0 in /usr/local/lib/python3.10/dist-packages (from torch-optimizer) (2.2.1+cu121)\n",
            "Collecting pytorch-ranger>=0.1.1 (from torch-optimizer)\n",
            "  Downloading pytorch_ranger-0.1.1-py3-none-any.whl (14 kB)\n",
            "Requirement already satisfied: filelock in /usr/local/lib/python3.10/dist-packages (from torch>=1.5.0->torch-optimizer) (3.14.0)\n",
            "Requirement already satisfied: typing-extensions>=4.8.0 in /usr/local/lib/python3.10/dist-packages (from torch>=1.5.0->torch-optimizer) (4.11.0)\n",
            "Requirement already satisfied: sympy in /usr/local/lib/python3.10/dist-packages (from torch>=1.5.0->torch-optimizer) (1.12)\n",
            "Requirement already satisfied: networkx in /usr/local/lib/python3.10/dist-packages (from torch>=1.5.0->torch-optimizer) (3.3)\n",
            "Requirement already satisfied: jinja2 in /usr/local/lib/python3.10/dist-packages (from torch>=1.5.0->torch-optimizer) (3.1.3)\n",
            "Requirement already satisfied: fsspec in /usr/local/lib/python3.10/dist-packages (from torch>=1.5.0->torch-optimizer) (2023.6.0)\n",
            "Requirement already satisfied: nvidia-cuda-nvrtc-cu12==12.1.105 in /usr/local/lib/python3.10/dist-packages (from torch>=1.5.0->torch-optimizer) (12.1.105)\n",
            "Requirement already satisfied: nvidia-cuda-runtime-cu12==12.1.105 in /usr/local/lib/python3.10/dist-packages (from torch>=1.5.0->torch-optimizer) (12.1.105)\n",
            "Requirement already satisfied: nvidia-cuda-cupti-cu12==12.1.105 in /usr/local/lib/python3.10/dist-packages (from torch>=1.5.0->torch-optimizer) (12.1.105)\n",
            "Requirement already satisfied: nvidia-cudnn-cu12==8.9.2.26 in /usr/local/lib/python3.10/dist-packages (from torch>=1.5.0->torch-optimizer) (8.9.2.26)\n",
            "Requirement already satisfied: nvidia-cublas-cu12==12.1.3.1 in /usr/local/lib/python3.10/dist-packages (from torch>=1.5.0->torch-optimizer) (12.1.3.1)\n",
            "Requirement already satisfied: nvidia-cufft-cu12==11.0.2.54 in /usr/local/lib/python3.10/dist-packages (from torch>=1.5.0->torch-optimizer) (11.0.2.54)\n",
            "Requirement already satisfied: nvidia-curand-cu12==10.3.2.106 in /usr/local/lib/python3.10/dist-packages (from torch>=1.5.0->torch-optimizer) (10.3.2.106)\n",
            "Requirement already satisfied: nvidia-cusolver-cu12==11.4.5.107 in /usr/local/lib/python3.10/dist-packages (from torch>=1.5.0->torch-optimizer) (11.4.5.107)\n",
            "Requirement already satisfied: nvidia-cusparse-cu12==12.1.0.106 in /usr/local/lib/python3.10/dist-packages (from torch>=1.5.0->torch-optimizer) (12.1.0.106)\n",
            "Requirement already satisfied: nvidia-nccl-cu12==2.19.3 in /usr/local/lib/python3.10/dist-packages (from torch>=1.5.0->torch-optimizer) (2.19.3)\n",
            "Requirement already satisfied: nvidia-nvtx-cu12==12.1.105 in /usr/local/lib/python3.10/dist-packages (from torch>=1.5.0->torch-optimizer) (12.1.105)\n",
            "Requirement already satisfied: triton==2.2.0 in /usr/local/lib/python3.10/dist-packages (from torch>=1.5.0->torch-optimizer) (2.2.0)\n",
            "Requirement already satisfied: nvidia-nvjitlink-cu12 in /usr/local/lib/python3.10/dist-packages (from nvidia-cusolver-cu12==11.4.5.107->torch>=1.5.0->torch-optimizer) (12.4.127)\n",
            "Requirement already satisfied: MarkupSafe>=2.0 in /usr/local/lib/python3.10/dist-packages (from jinja2->torch>=1.5.0->torch-optimizer) (2.1.5)\n",
            "Requirement already satisfied: mpmath>=0.19 in /usr/local/lib/python3.10/dist-packages (from sympy->torch>=1.5.0->torch-optimizer) (1.3.0)\n",
            "Installing collected packages: pytorch-ranger, torch-optimizer\n",
            "Successfully installed pytorch-ranger-0.1.1 torch-optimizer-0.3.0\n"
          ]
        }
      ]
    },
    {
      "cell_type": "code",
      "source": [
        "from glob import glob\n",
        "\n",
        "import cv2\n",
        "import pandas as pd\n",
        "import numpy as np\n",
        "import matplotlib.pyplot as plt\n",
        "from PIL import Image\n",
        "from sklearn.preprocessing import LabelEncoder\n",
        "\n",
        "import torch\n",
        "import torchvision\n",
        "from torch import Tensor\n",
        "from torchvision import transforms\n",
        "from torchvision import datasets, models\n",
        "import torch.nn as nn\n",
        "import torch.nn.functional as F\n",
        "from torch.optim import lr_scheduler\n",
        "from torch.utils.data import Dataset\n",
        "from torch.utils.data import DataLoader\n",
        "\n",
        "import efficientnet_pytorch\n",
        "import torch_optimizer as optim\n",
        "import albumentations as A\n",
        "\n",
        "import sklearn\n",
        "from tqdm import tqdm\n",
        "\n",
        "import os"
      ],
      "metadata": {
        "id": "TbJ0cHVhetwL"
      },
      "execution_count": null,
      "outputs": []
    },
    {
      "cell_type": "code",
      "source": [
        "from google.colab import drive\n",
        "drive.mount('/content/drive')"
      ],
      "metadata": {
        "id": "PlYhdR0AIxY6",
        "colab": {
          "base_uri": "https://localhost:8080/"
        },
        "outputId": "bb1ec71f-f74b-4a85-8d47-1c70274f8d3c"
      },
      "execution_count": null,
      "outputs": [
        {
          "output_type": "stream",
          "name": "stdout",
          "text": [
            "Mounted at /content/drive\n"
          ]
        }
      ]
    },
    {
      "cell_type": "markdown",
      "source": [
        "# Data Retrieval"
      ],
      "metadata": {
        "id": "4KqAEbdBfdy1"
      }
    },
    {
      "cell_type": "code",
      "source": [
        "!unzip /content/drive/MyDrive/cs444-final-project/project/data/small_data/train.zip"
      ],
      "metadata": {
        "id": "TE1qc_-T53vj"
      },
      "execution_count": null,
      "outputs": []
    },
    {
      "cell_type": "code",
      "source": [
        "!unzip /content/drive/MyDrive/cs444-final-project/project/data/small_data/test.zip\n"
      ],
      "metadata": {
        "id": "8WaTSNtjMTAh"
      },
      "execution_count": null,
      "outputs": []
    },
    {
      "cell_type": "markdown",
      "source": [
        "# Hyperparamters"
      ],
      "metadata": {
        "id": "Gp0K_SDG0ayw"
      }
    },
    {
      "cell_type": "code",
      "source": [
        "NUM_WORKERS = 2\n",
        "BATCH_SIZE = 16\n",
        "MODEL_SAVE_TO = '/content/drive/MyDrive/cs444-final-project/project/models/baselines/saved_models/efficient_net_b7_best_model.pth'\n",
        "LOG_FILE = '/content/drive/MyDrive/cs444-final-project/project/models/baselines/train_logs/efficient_net_b7_best_model.json'\n",
        "NUM_EPOCHS = 15\n",
        "LOG_FREQ = 10\n",
        "NUM_CLASSES = 25\n",
        "BETAS = (0.9,0.999)\n",
        "EPS = 1e-3\n",
        "WEIGHT_DECAY = 1e-4\n",
        "LR = 1e-3\n",
        "device = torch.device(\"cuda\" if torch.cuda.is_available() else \"cpu\")"
      ],
      "metadata": {
        "id": "h1zzYkUT0aLL"
      },
      "execution_count": null,
      "outputs": []
    },
    {
      "cell_type": "markdown",
      "source": [
        "# Dataset and Dataloader"
      ],
      "metadata": {
        "id": "BuHJd1IJd6cZ"
      }
    },
    {
      "cell_type": "code",
      "execution_count": null,
      "metadata": {
        "id": "GrVvBkSCd0-D"
      },
      "outputs": [],
      "source": [
        "class LandmarkImageDataset(Dataset):\n",
        "    def __init__(self, annotations_file, transform=None, id_path_mapping=\"\", is_pt=False):\n",
        "        \"\"\"\n",
        "        Args:\n",
        "            annotations_file (string): Path to the CSV file with annotations.\n",
        "            img_dir (string): Directory with all the images.\n",
        "            transform (callable, optional): Optional transform to be applied on a sample.\n",
        "            file_extension (string, optional): Extension of the image files in the directory.\n",
        "        \"\"\"\n",
        "        self.img_labels = pd.read_csv(annotations_file)\n",
        "        self.id_to_label = {str(row[0]): row[3] for row in self.img_labels.values}\n",
        "        self.transform = transform\n",
        "        self.id_path_mapping = pd.read_csv(id_path_mapping)\n",
        "        self.length = len(self.id_path_mapping)\n",
        "        self.is_pt = is_pt\n",
        "\n",
        "\n",
        "    def __len__(self):\n",
        "        return self.length\n",
        "\n",
        "    def __getitem__(self, idx):\n",
        "        # Retrieve the image ID and path from the mapping\n",
        "        image_id = self.id_path_mapping.iloc[idx]['id']\n",
        "        image_path = self.id_path_mapping.iloc[idx]['path']\n",
        "\n",
        "        label = self.id_to_label[str(image_id)]\n",
        "\n",
        "        if self.is_pt:\n",
        "            tensor = torch.load(image_path)\n",
        "            if self.transform:\n",
        "                tensor = self.transform(tensor)\n",
        "            return tensor, label\n",
        "        else:\n",
        "            # Load the image\n",
        "            image = Image.open(image_path)\n",
        "            # Apply transform if any\n",
        "            if self.transform:\n",
        "                image = self.transform(image)\n",
        "            return image, label\n",
        "\n",
        "\n",
        "# Define transformations for the training data\n",
        "train_transform = transforms.Compose([\n",
        "    transforms.Resize((256, 256)),\n",
        "    transforms.RandomCrop(224),\n",
        "    transforms.ToTensor(),\n",
        "    transforms.Normalize(mean=[0.485, 0.456, 0.406], std=[0.229, 0.224, 0.225])\n",
        "])\n",
        "\n",
        "train_transform_pt = transforms.Compose([\n",
        "    transforms.Normalize(mean=[0.485, 0.456, 0.406], std=[0.229, 0.224, 0.225])\n",
        "])\n",
        "\n",
        "label_csv = \"/content/drive/MyDrive/cs444-final-project/project/data/small_data/small_data.csv\"\n",
        "train_img_id_to_path_mapping = \"/content/drive/MyDrive/cs444-final-project/project/data/small_data/train_img_id_to_path_mapping_drive.csv\"\n",
        "# Create an instance of the dataset\n",
        "train_dataset = LandmarkImageDataset(\n",
        "    annotations_file=label_csv,\n",
        "    transform=train_transform,\n",
        "    id_path_mapping=train_img_id_to_path_mapping,\n",
        "    # is_pt=Trued\n",
        "    is_pt=False\n",
        ")\n",
        "\n",
        "# Define the DataLoader\n",
        "train_loader = DataLoader(dataset=train_dataset, batch_size=BATCH_SIZE, shuffle=True, num_workers=NUM_WORKERS)\n",
        "\n",
        "\n"
      ]
    },
    {
      "cell_type": "code",
      "source": [
        "len(train_dataset)"
      ],
      "metadata": {
        "colab": {
          "base_uri": "https://localhost:8080/"
        },
        "id": "Z8GPrCEXONZj",
        "outputId": "dd3004ee-5c61-4e47-cac1-4aac04add5e0"
      },
      "execution_count": null,
      "outputs": [
        {
          "output_type": "execute_result",
          "data": {
            "text/plain": [
              "6731"
            ]
          },
          "metadata": {},
          "execution_count": 8
        }
      ]
    },
    {
      "cell_type": "markdown",
      "source": [
        "# Optimzer"
      ],
      "metadata": {
        "id": "z-fiTuTSeZD2"
      }
    },
    {
      "cell_type": "code",
      "source": [
        "def radam(parameters, lr=1e-3, betas=(0.9, 0.999), eps=1e-8, weight_decay=0):\n",
        "    if isinstance(betas, str):\n",
        "        betas = eval(betas)\n",
        "    return optim.RAdam(parameters, lr=lr, betas=betas, eps=eps, weight_decay=weight_decay)"
      ],
      "metadata": {
        "id": "OzJdJvkXeauf"
      },
      "execution_count": null,
      "outputs": []
    },
    {
      "cell_type": "markdown",
      "source": [
        "# Evaluation Metrics"
      ],
      "metadata": {
        "id": "9HamrmC8f3w4"
      }
    },
    {
      "cell_type": "code",
      "source": [
        "class RunningAverage:\n",
        "    '''\n",
        "      Computes and keeps track of the running average and the current value of metrics\n",
        "    '''\n",
        "    def __init__(self) -> None:\n",
        "        self.val = 0.0\n",
        "        self.avg = 0.0\n",
        "        self.sum = 0.0\n",
        "        self.count = 0\n",
        "\n",
        "    def update(self, val: float, n: int = 1) -> None:\n",
        "        self.val = val\n",
        "        self.sum += val * n\n",
        "        self.count += n\n",
        "        self.avg = self.sum / self.count\n",
        "\n",
        "\n",
        "def GAP(predicts: torch.Tensor, confs: torch.Tensor, targets: torch.Tensor) -> float:\n",
        "    \"\"\"\n",
        "    Calculates the simplified Global Average Precision.\n",
        "    https://www.kaggle.com/competitions/landmark-recognition-2020/overview/evaluation\n",
        "\n",
        "    Args:\n",
        "        predicts (torch.Tensor): Predicted labels of shape (n_samples,).\n",
        "        confs (torch.Tensor): Confidence scores associated with predictions, of shape (n_samples,).\n",
        "        targets (torch.Tensor): Ground truth labels, of shape (n_samples,).\n",
        "\n",
        "    Returns:\n",
        "        float: The GAP score for the given predictions and targets.\n",
        "    \"\"\"\n",
        "    assert len(predicts.shape) == 1 and len(confs.shape) == 1 and len(targets.shape) == 1 and predicts.shape == confs.shape and confs.shape == targets.shape\n",
        "\n",
        "    _, indices = torch.sort(confs, descending=True)\n",
        "\n",
        "    confs = confs.cpu().numpy()\n",
        "    predicts = predicts[indices].cpu().numpy()\n",
        "    targets = targets[indices].cpu().numpy()\n",
        "\n",
        "    res, true_pos = 0.0, 0\n",
        "\n",
        "    for i, (c, p, t) in enumerate(zip(confs, predicts, targets)):\n",
        "        rel = int(p == t)\n",
        "        true_pos += rel\n",
        "\n",
        "        res += true_pos / (i + 1) * rel\n",
        "\n",
        "    res /= targets.shape[0]\n",
        "    return res"
      ],
      "metadata": {
        "id": "JeBVS5Tnf6k-"
      },
      "execution_count": null,
      "outputs": []
    },
    {
      "cell_type": "markdown",
      "source": [
        "# Model Initialization"
      ],
      "metadata": {
        "id": "5aWBbTardSgq"
      }
    },
    {
      "cell_type": "code",
      "source": [
        "class EfficientNetEncoderHead(nn.Module):\n",
        "    \"\"\"\n",
        "    Defining an EfficientNet encoder head for image classification.\n",
        "\n",
        "    Attributes:\n",
        "        depth (int): The depth version of the EfficientNet.\n",
        "        num_classes (int): The number of classes for the classifier output.\n",
        "        base (EfficientNet): The base EfficientNet model preloaded with pretrained weights.\n",
        "        avg_pool (nn.AdaptiveAvgPool2d): Adaptive average pooling to reduce spatial dimensions to 1x1.\n",
        "        output_filter (int): The number of output features from the EfficientNet.\n",
        "        classifier (nn.Linear): The linear classifier that outputs the class probabilities.\n",
        "\n",
        "    Methods:\n",
        "        forward(x): Defines the forward pass of the model.\n",
        "    \"\"\"\n",
        "    def __init__(self, depth, num_classes):\n",
        "        super(EfficientNetEncoderHead, self).__init__()\n",
        "        self.depth = depth\n",
        "        self.base = efficientnet_pytorch.EfficientNet.from_pretrained(f'efficientnet-b{self.depth}')\n",
        "        self.avg_pool = nn.AdaptiveAvgPool2d(1)\n",
        "        self.output_filter = self.base._fc.in_features\n",
        "        self.classifier = nn.Linear(self.output_filter, num_classes)\n",
        "    def forward(self, x):\n",
        "        x = self.base.extract_features(x)\n",
        "        x = self.avg_pool(x).squeeze(-1).squeeze(-1)\n",
        "        x = self.classifier(x)\n",
        "        return x"
      ],
      "metadata": {
        "id": "OPnqAWfogAY7"
      },
      "execution_count": null,
      "outputs": []
    },
    {
      "cell_type": "markdown",
      "source": [
        "# Model Training (EfficientNet-b0)"
      ],
      "metadata": {
        "id": "sn6thiQFgeXU"
      }
    },
    {
      "cell_type": "code",
      "execution_count": null,
      "metadata": {
        "id": "kH7nBdfYd0-E"
      },
      "outputs": [],
      "source": [
        "def train(train_loader, model, criterion, optimizer, lr_scheduler, epochs=10):\n",
        "    train_losses = []\n",
        "    train_gap = []\n",
        "    train_accuracies = []\n",
        "    best_score = float('-inf')\n",
        "    for epoch in range(epochs):\n",
        "        losses = RunningAverage()\n",
        "        avg_score = RunningAverage()\n",
        "        avg_accuracy = RunningAverage()\n",
        "        model.train()\n",
        "        num_batches = len(train_loader)\n",
        "\n",
        "        lr = None\n",
        "        progress_bar = tqdm(train_loader, desc=f'Epoch {epoch+1}/{epochs}', leave=True)\n",
        "        for i, (inputs, labels) in enumerate(progress_bar):\n",
        "            inputs, labels = inputs.to(device), labels.to(device)\n",
        "            output = model(inputs.cuda())\n",
        "            loss = criterion(output, labels)\n",
        "            confs, predicts = torch.max(output.detach(), dim=1)\n",
        "\n",
        "            # Calculate accuracy\n",
        "            correct = predicts.eq(labels).sum().item()\n",
        "            total = labels.size(0)\n",
        "            accuracy = 100 * correct / total\n",
        "            avg_accuracy.update(accuracy, total)\n",
        "\n",
        "            avg_score.update(GAP(predicts, confs, labels))\n",
        "            losses.update(loss.data.item(), inputs.size(0))\n",
        "            optimizer.zero_grad()\n",
        "            loss.backward()\n",
        "            optimizer.step()\n",
        "            lr_scheduler.step()\n",
        "            lr = optimizer.param_groups[0]['lr']\n",
        "\n",
        "            # Update tqdm progress bar description with status\n",
        "            if i % LOG_FREQ == 0 or i == num_batches - 1:\n",
        "                progress_desc = (\n",
        "                    f'Epoch {epoch + 1}/{epochs} - '\n",
        "                    f'Batch {i + 1}/{num_batches} - '\n",
        "                    f'Loss: {losses.val:.4f} (Avg: {losses.avg:.4f}) - '\n",
        "                    f'GAP score: {avg_score.val:.4f} (Avg: {avg_score.avg:.4f}) - '\n",
        "                    f'Accuracy: {avg_accuracy.val:.2f}% (Avg: {avg_accuracy.avg:.2f}%) - '\n",
        "                    f'Learning Rate: {lr:.6f}'\n",
        "                )\n",
        "                progress_bar.set_description(progress_desc)\n",
        "                progress_bar.refresh()  # to show immediate updates\n",
        "\n",
        "        # Checkpoint\n",
        "        if avg_score.avg > best_score:\n",
        "            best_score = avg_score.avg\n",
        "            torch.save(model.state_dict(), MODEL_SAVE_TO)\n",
        "            print(f'Saved new best model with avg GAP: {best_score:.4f}')\n",
        "\n",
        "        train_gap.append(avg_score.avg)\n",
        "        train_losses.append(losses.avg)\n",
        "        train_accuracies.append(avg_accuracy.avg)\n",
        "\n",
        "        # Clear the last progress description to avoid redundancy with the next epoch\n",
        "        progress_bar.set_description(f'Epoch {epoch+1}/{epochs}')\n",
        "        progress_bar.refresh()\n",
        "        print(f'      ==== GAP score in epoch {epoch + 1}: {avg_score.avg:.4f} ===')\n",
        "\n",
        "    return train_losses, train_gap, train_accuracies"
      ]
    },
    {
      "cell_type": "code",
      "source": [
        "model = EfficientNetEncoderHead(depth=7, num_classes=NUM_CLASSES)\n",
        "\n",
        "criterion = nn.CrossEntropyLoss()\n",
        "optimizer = radam(model.parameters(), lr=LR, betas=BETAS, eps=EPS, weight_decay=WEIGHT_DECAY)\n",
        "scheduler = lr_scheduler.CosineAnnealingLR(optimizer, T_max=len(train_loader) * NUM_EPOCHS, eta_min=1e-6)\n",
        "model.to(device)\n",
        "\n",
        "\n",
        "train_losses, train_gap, train_accuracies = train(train_loader, model, criterion, optimizer, scheduler, NUM_EPOCHS)"
      ],
      "metadata": {
        "colab": {
          "base_uri": "https://localhost:8080/"
        },
        "id": "Xm78L7Tegph8",
        "outputId": "ae5780d4-0b8f-470e-fdfb-aaae65860514"
      },
      "execution_count": null,
      "outputs": [
        {
          "output_type": "stream",
          "name": "stdout",
          "text": [
            "Loaded pretrained weights for efficientnet-b7\n"
          ]
        },
        {
          "output_type": "stream",
          "name": "stderr",
          "text": [
            "Epoch 1/15 - Batch 421/421 - Loss: 1.8907 (Avg: 2.0064) - GAP score: 0.2429 (Avg: 0.4255) - Accuracy: 36.36% (Avg: 48.74%) - Learning Rate: 0.000989: 100%|██████████| 421/421 [01:39<00:00,  4.24it/s]\n"
          ]
        },
        {
          "output_type": "stream",
          "name": "stdout",
          "text": [
            "Saved new best model with avg GAP: 0.4255\n",
            "      ==== GAP score in epoch 1: 0.4255 ===\n"
          ]
        },
        {
          "output_type": "stream",
          "name": "stderr",
          "text": [
            "Epoch 2/15 - Batch 421/421 - Loss: 1.5182 (Avg: 0.8850) - GAP score: 0.5530 (Avg: 0.6987) - Accuracy: 63.64% (Avg: 73.53%) - Learning Rate: 0.000957: 100%|██████████| 421/421 [01:39<00:00,  4.24it/s]\n"
          ]
        },
        {
          "output_type": "stream",
          "name": "stdout",
          "text": [
            "Saved new best model with avg GAP: 0.6987\n",
            "      ==== GAP score in epoch 2: 0.6987 ===\n"
          ]
        },
        {
          "output_type": "stream",
          "name": "stderr",
          "text": [
            "Epoch 3/15 - Batch 421/421 - Loss: 0.5332 (Avg: 0.5924) - GAP score: 0.8703 (Avg: 0.7952) - Accuracy: 90.91% (Avg: 82.20%) - Learning Rate: 0.000905: 100%|██████████| 421/421 [01:39<00:00,  4.21it/s]\n"
          ]
        },
        {
          "output_type": "stream",
          "name": "stdout",
          "text": [
            "Saved new best model with avg GAP: 0.7952\n",
            "      ==== GAP score in epoch 3: 0.7952 ===\n"
          ]
        },
        {
          "output_type": "stream",
          "name": "stderr",
          "text": [
            "Epoch 4/15 - Batch 421/421 - Loss: 0.3724 (Avg: 0.4189) - GAP score: 0.7672 (Avg: 0.8507) - Accuracy: 81.82% (Avg: 86.94%) - Learning Rate: 0.000835: 100%|██████████| 421/421 [01:40<00:00,  4.21it/s]\n"
          ]
        },
        {
          "output_type": "stream",
          "name": "stdout",
          "text": [
            "Saved new best model with avg GAP: 0.8507\n",
            "      ==== GAP score in epoch 4: 0.8507 ===\n"
          ]
        },
        {
          "output_type": "stream",
          "name": "stderr",
          "text": [
            "Epoch 5/15 - Batch 421/421 - Loss: 0.6139 (Avg: 0.2947) - GAP score: 0.8703 (Avg: 0.9032) - Accuracy: 90.91% (Avg: 91.44%) - Learning Rate: 0.000750: 100%|██████████| 421/421 [01:39<00:00,  4.22it/s]\n"
          ]
        },
        {
          "output_type": "stream",
          "name": "stdout",
          "text": [
            "Saved new best model with avg GAP: 0.9032\n",
            "      ==== GAP score in epoch 5: 0.9032 ===\n"
          ]
        },
        {
          "output_type": "stream",
          "name": "stderr",
          "text": [
            "Epoch 6/15 - Batch 421/421 - Loss: 0.1053 (Avg: 0.2024) - GAP score: 1.0000 (Avg: 0.9325) - Accuracy: 100.00% (Avg: 93.89%) - Learning Rate: 0.000655: 100%|██████████| 421/421 [01:39<00:00,  4.21it/s]\n"
          ]
        },
        {
          "output_type": "stream",
          "name": "stdout",
          "text": [
            "Saved new best model with avg GAP: 0.9325\n",
            "      ==== GAP score in epoch 6: 0.9325 ===\n"
          ]
        },
        {
          "output_type": "stream",
          "name": "stderr",
          "text": [
            "Epoch 7/15 - Batch 421/421 - Loss: 0.5705 (Avg: 0.1583) - GAP score: 0.9008 (Avg: 0.9458) - Accuracy: 90.91% (Avg: 95.25%) - Learning Rate: 0.000553: 100%|██████████| 421/421 [01:39<00:00,  4.22it/s]\n"
          ]
        },
        {
          "output_type": "stream",
          "name": "stdout",
          "text": [
            "Saved new best model with avg GAP: 0.9458\n",
            "      ==== GAP score in epoch 7: 0.9458 ===\n"
          ]
        },
        {
          "output_type": "stream",
          "name": "stderr",
          "text": [
            "Epoch 8/15 - Batch 421/421 - Loss: 0.0072 (Avg: 0.0771) - GAP score: 1.0000 (Avg: 0.9760) - Accuracy: 100.00% (Avg: 97.80%) - Learning Rate: 0.000448: 100%|██████████| 421/421 [01:39<00:00,  4.21it/s]\n"
          ]
        },
        {
          "output_type": "stream",
          "name": "stdout",
          "text": [
            "Saved new best model with avg GAP: 0.9760\n",
            "      ==== GAP score in epoch 8: 0.9760 ===\n"
          ]
        },
        {
          "output_type": "stream",
          "name": "stderr",
          "text": [
            "Epoch 9/15 - Batch 421/421 - Loss: 0.0413 (Avg: 0.0527) - GAP score: 1.0000 (Avg: 0.9826) - Accuracy: 100.00% (Avg: 98.40%) - Learning Rate: 0.000346: 100%|██████████| 421/421 [01:39<00:00,  4.22it/s]\n"
          ]
        },
        {
          "output_type": "stream",
          "name": "stdout",
          "text": [
            "Saved new best model with avg GAP: 0.9826\n",
            "      ==== GAP score in epoch 9: 0.9826 ===\n"
          ]
        },
        {
          "output_type": "stream",
          "name": "stderr",
          "text": [
            "Epoch 10/15 - Batch 421/421 - Loss: 0.0033 (Avg: 0.0275) - GAP score: 1.0000 (Avg: 0.9907) - Accuracy: 100.00% (Avg: 99.12%) - Learning Rate: 0.000251: 100%|██████████| 421/421 [01:40<00:00,  4.21it/s]\n"
          ]
        },
        {
          "output_type": "stream",
          "name": "stdout",
          "text": [
            "Saved new best model with avg GAP: 0.9907\n",
            "      ==== GAP score in epoch 10: 0.9907 ===\n"
          ]
        },
        {
          "output_type": "stream",
          "name": "stderr",
          "text": [
            "Epoch 11/15 - Batch 421/421 - Loss: 0.0022 (Avg: 0.0183) - GAP score: 1.0000 (Avg: 0.9943) - Accuracy: 100.00% (Avg: 99.47%) - Learning Rate: 0.000166: 100%|██████████| 421/421 [01:40<00:00,  4.21it/s]\n"
          ]
        },
        {
          "output_type": "stream",
          "name": "stdout",
          "text": [
            "Saved new best model with avg GAP: 0.9943\n",
            "      ==== GAP score in epoch 11: 0.9943 ===\n"
          ]
        },
        {
          "output_type": "stream",
          "name": "stderr",
          "text": [
            "Epoch 12/15 - Batch 421/421 - Loss: 0.0016 (Avg: 0.0119) - GAP score: 1.0000 (Avg: 0.9958) - Accuracy: 100.00% (Avg: 99.60%) - Learning Rate: 0.000096: 100%|██████████| 421/421 [01:39<00:00,  4.23it/s]\n"
          ]
        },
        {
          "output_type": "stream",
          "name": "stdout",
          "text": [
            "Saved new best model with avg GAP: 0.9958\n",
            "      ==== GAP score in epoch 12: 0.9958 ===\n"
          ]
        },
        {
          "output_type": "stream",
          "name": "stderr",
          "text": [
            "Epoch 13/15 - Batch 421/421 - Loss: 0.0005 (Avg: 0.0095) - GAP score: 1.0000 (Avg: 0.9975) - Accuracy: 100.00% (Avg: 99.78%) - Learning Rate: 0.000044: 100%|██████████| 421/421 [01:38<00:00,  4.27it/s]\n"
          ]
        },
        {
          "output_type": "stream",
          "name": "stdout",
          "text": [
            "Saved new best model with avg GAP: 0.9975\n",
            "      ==== GAP score in epoch 13: 0.9975 ===\n"
          ]
        },
        {
          "output_type": "stream",
          "name": "stderr",
          "text": [
            "Epoch 14/15 - Batch 421/421 - Loss: 0.0263 (Avg: 0.0076) - GAP score: 1.0000 (Avg: 0.9980) - Accuracy: 100.00% (Avg: 99.81%) - Learning Rate: 0.000012: 100%|██████████| 421/421 [01:39<00:00,  4.24it/s]\n"
          ]
        },
        {
          "output_type": "stream",
          "name": "stdout",
          "text": [
            "Saved new best model with avg GAP: 0.9980\n",
            "      ==== GAP score in epoch 14: 0.9980 ===\n"
          ]
        },
        {
          "output_type": "stream",
          "name": "stderr",
          "text": [
            "Epoch 15/15 - Batch 421/421 - Loss: 0.0037 (Avg: 0.0078) - GAP score: 1.0000 (Avg: 0.9982) - Accuracy: 100.00% (Avg: 99.82%) - Learning Rate: 0.000001: 100%|██████████| 421/421 [01:38<00:00,  4.26it/s]\n"
          ]
        },
        {
          "output_type": "stream",
          "name": "stdout",
          "text": [
            "Saved new best model with avg GAP: 0.9982\n",
            "      ==== GAP score in epoch 15: 0.9982 ===\n"
          ]
        }
      ]
    },
    {
      "cell_type": "code",
      "source": [
        "import matplotlib.pyplot as plt\n",
        "\n",
        "def plot_metrics(train_losses, train_accuracies):\n",
        "    plt.figure(figsize=(10, 5))\n",
        "\n",
        "    # First y-axis for the training loss\n",
        "    ax1 = plt.gca()\n",
        "    line1, = ax1.plot(train_losses, label='Training Loss', color='red', marker='o')\n",
        "    ax1.set_xlabel('Epochs')\n",
        "    ax1.set_ylabel('Loss', color='red')\n",
        "    ax1.tick_params(axis='y', labelcolor='red')\n",
        "\n",
        "    # Second y-axis for the training accuracy\n",
        "    ax2 = ax1.twinx()\n",
        "    line2, = ax2.plot(train_accuracies, label='Training GAP Score', color='blue', marker='x')\n",
        "    ax2.set_ylabel('Accuracy / GAP', color='blue')\n",
        "    ax2.tick_params(axis='y', labelcolor='blue')\n",
        "\n",
        "    plt.title('Training Loss and Accuracy')\n",
        "    ax1.grid(True)\n",
        "    lines = [line1, line2]\n",
        "    labels = [l.get_label() for l in lines]\n",
        "    plt.legend(lines, labels, loc='center right')\n",
        "\n",
        "    plt.show()\n",
        "\n"
      ],
      "metadata": {
        "id": "BP5rM3nvUmtU"
      },
      "execution_count": null,
      "outputs": []
    },
    {
      "cell_type": "code",
      "source": [
        "# Plot losses\n",
        "import numpy as np\n",
        "# acc = [acc.item() for acc in train_accuracies]\n",
        "plot_metrics(train_losses, train_gap)\n",
        "print(f\"maximum accuracy achieved with {round(max(train_gap), 6) * 100}% at epoch {np.argmax(train_gap) + 1}\")"
      ],
      "metadata": {
        "id": "YcVXdUa4WodP",
        "colab": {
          "base_uri": "https://localhost:8080/",
          "height": 505
        },
        "outputId": "c3ae31d0-0ca0-4601-f7d6-3d3e59355927"
      },
      "execution_count": null,
      "outputs": [
        {
          "output_type": "display_data",
          "data": {
            "text/plain": [
              "<Figure size 1000x500 with 2 Axes>"
            ],
            "image/png": "[encoded data removed]"
          },
          "metadata": {}
        },
        {
          "output_type": "stream",
          "name": "stdout",
          "text": [
            "maximum accuracy achieved with 99.8151% at epoch 15\n"
          ]
        }
      ]
    },
    {
      "cell_type": "code",
      "source": [
        "import json\n",
        "\n",
        "data = {\n",
        "    \"train_loss\": train_losses,\n",
        "    \"train_accuracy\": train_accuracies,\n",
        "    \"train_gap\": train_gap\n",
        "}\n",
        "\n",
        "with open(LOG_FILE, \"w\") as json_file:\n",
        "    json.dump(data, json_file, indent=4)\n"
      ],
      "metadata": {
        "id": "fsflRr_Xz2E0"
      },
      "execution_count": null,
      "outputs": []
    },
    {
      "cell_type": "markdown",
      "source": [
        "# Test and Eavluation"
      ],
      "metadata": {
        "id": "79U1ArtoVqWC"
      }
    },
    {
      "cell_type": "code",
      "source": [
        "def evaluate_model(model, dataloader, criterion, device):\n",
        "    model.eval()\n",
        "    running_loss = 0.0\n",
        "    correct_predictions = 0\n",
        "    total_samples = 0  # Track total samples processed\n",
        "\n",
        "    with torch.no_grad():\n",
        "        progress_bar = tqdm(enumerate(dataloader), total=len(dataloader), desc=\"Evaluating\", leave=True)\n",
        "        for i, (inputs, labels) in progress_bar:\n",
        "            inputs, labels = inputs.to(device), labels.to(device)\n",
        "            outputs = model(inputs)\n",
        "            loss = criterion(outputs, labels)\n",
        "\n",
        "            running_loss += loss.item()\n",
        "            _, preds = torch.max(outputs, 1)\n",
        "            correct_predictions += torch.sum(preds == labels.data)\n",
        "            total_samples += labels.size(0)\n",
        "\n",
        "            # Update the progress bar with average loss and accuracy\n",
        "            average_loss = running_loss / total_samples\n",
        "            average_accuracy = correct_predictions.double() / total_samples\n",
        "            progress_bar.set_postfix({'avg_loss': f'{average_loss:.4f}', 'avg_acc': f'{average_accuracy:.2f}'})\n",
        "\n",
        "    total_loss = running_loss / len(dataloader)\n",
        "    accuracy = correct_predictions.double() / len(dataloader.dataset)\n",
        "    # print(f'Validation Loss: {total_loss}, Accuracy: {accuracy}')\n",
        "    return total_loss, accuracy  # Optionally return metrics for further analysis\n"
      ],
      "metadata": {
        "id": "Glb72offVo7k"
      },
      "execution_count": null,
      "outputs": []
    },
    {
      "cell_type": "code",
      "source": [
        "# Define transformations for the training data\n",
        "test_transform = transforms.Compose([\n",
        "    transforms.Resize((256, 256)),\n",
        "    transforms.CenterCrop(224),\n",
        "    transforms.ToTensor(),\n",
        "    transforms.Normalize(mean=[0.485, 0.456, 0.406], std=[0.229, 0.224, 0.225])\n",
        "])\n",
        "\n",
        "\n",
        "label_csv = \"/content/drive/MyDrive/cs444-final-project/project/data/small_data/small_data.csv\"\n",
        "test_img_id_to_path_mapping = \"/content/drive/MyDrive/cs444-final-project/project/data/small_data/test_img_id_to_path_mapping_drive.csv\"\n",
        "# Create an instance of the dataset\n",
        "test_dataset = LandmarkImageDataset(\n",
        "    annotations_file=label_csv,\n",
        "    transform=train_transform,\n",
        "    id_path_mapping=test_img_id_to_path_mapping\n",
        ")\n",
        "\n",
        "# Define the DataLoader\n",
        "test_loader = DataLoader(dataset=test_dataset, batch_size=16, shuffle=False, num_workers=NUM_WORKERS)\n",
        "\n",
        "model.to(device)\n",
        "model.load_state_dict(torch.load(MODEL_SAVE_TO))\n",
        "\n",
        "# Evaluate the model\n",
        "test_loss, test_accuracy = evaluate_model(model, test_loader, criterion, device)\n",
        "print(f\"\\nTest Loss: {test_loss}, Test Accuracy: {test_accuracy}\")\n"
      ],
      "metadata": {
        "id": "q1gQHcf5GtQo",
        "colab": {
          "base_uri": "https://localhost:8080/"
        },
        "outputId": "bf3c59b0-b8c6-404f-b186-5afef2c3481c"
      },
      "execution_count": null,
      "outputs": [
        {
          "output_type": "stream",
          "name": "stderr",
          "text": [
            "/usr/lib/python3.10/multiprocessing/popen_fork.py:66: RuntimeWarning: os.fork() was called. os.fork() is incompatible with multithreaded code, and JAX is multithreaded, so this will likely lead to a deadlock.\n",
            "  self.pid = os.fork()\n",
            "Evaluating: 100%|██████████| 46/46 [00:03<00:00, 13.42it/s, avg_loss=0.0452, avg_acc=0.89]"
          ]
        },
        {
          "output_type": "stream",
          "name": "stdout",
          "text": [
            "\n",
            "Test Loss: 0.0.5629050697321477, Test Accuracy: 0.886047619047619\n"
          ]
        },
        {
          "output_type": "stream",
          "name": "stderr",
          "text": [
            "\n"
          ]
        }
      ]
    },
    {
      "cell_type": "code",
      "source": [],
      "metadata": {
        "id": "Yc0hPd6lReSJ"
      },
      "execution_count": null,
      "outputs": []
    }
  ],
  "metadata": {
    "colab": {
      "provenance": [],
      "gpuType": "A100",
      "machine_shape": "hm"
    },
    "kernelspec": {
      "display_name": "Python 3",
      "name": "python3"
    },
    "language_info": {
      "codemirror_mode": {
        "name": "ipython",
        "version": 3
      },
      "file_extension": ".py",
      "mimetype": "text/x-python",
      "name": "python",
      "nbconvert_exporter": "python",
      "pygments_lexer": "ipython3",
      "version": "3.11.5"
    },
    "accelerator": "GPU"
  },
  "nbformat": 4,
  "nbformat_minor": 0
}