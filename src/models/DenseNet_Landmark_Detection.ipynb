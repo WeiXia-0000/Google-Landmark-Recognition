{
  "cells": [
    {
      "cell_type": "code",
      "source": [],
      "metadata": {
        "id": "DRG0SaDpBNck"
      },
      "id": "DRG0SaDpBNck",
      "execution_count": null,
      "outputs": []
    },
    {
      "cell_type": "code",
      "source": [
        "from google.colab import drive\n",
        "drive.mount('/content/drive')"
      ],
      "metadata": {
        "colab": {
          "base_uri": "https://localhost:8080/"
        },
        "id": "mv9_T5qbftCO",
        "outputId": "baa2a103-c9b9-4e30-d28d-e49b7425b400"
      },
      "id": "mv9_T5qbftCO",
      "execution_count": null,
      "outputs": [
        {
          "output_type": "stream",
          "name": "stdout",
          "text": [
            "Mounted at /content/drive\n"
          ]
        }
      ]
    },
    {
      "cell_type": "code",
      "source": [
        "!unzip /content/drive/MyDrive/cs444-final-project/project/data/small_data/train.zip\n"
      ],
      "metadata": {
        "id": "QLSpnmT3gNx6"
      },
      "id": "QLSpnmT3gNx6",
      "execution_count": null,
      "outputs": []
    },
    {
      "cell_type": "code",
      "source": [
        "!unzip /content/drive/MyDrive/cs444-final-project/project/data/small_data/test.zip"
      ],
      "metadata": {
        "id": "qmHVzPlwtpUi"
      },
      "id": "qmHVzPlwtpUi",
      "execution_count": null,
      "outputs": []
    },
    {
      "cell_type": "code",
      "execution_count": null,
      "id": "cf7f0ed6",
      "metadata": {
        "id": "cf7f0ed6"
      },
      "outputs": [],
      "source": [
        "import torch\n",
        "import torchvision.models as models\n",
        "from torchvision import transforms\n",
        "from torch.utils.data import DataLoader\n",
        "import torch.nn as nn\n",
        "import torch.optim as optim\n",
        "from dataset import LandmarkImageDataset\n",
        "from utils import train, evaluate_model, plot_metrics, save_metrics\n",
        "from config import *"
      ]
    },
    {
      "cell_type": "code",
      "execution_count": null,
      "id": "98d09d9f",
      "metadata": {
        "id": "98d09d9f"
      },
      "outputs": [],
      "source": [
        "# Define transformations for the training data\n",
        "train_transform = transforms.Compose([\n",
        "    transforms.Resize((256, 256)),\n",
        "    transforms.CenterCrop(224),\n",
        "    transforms.ToTensor(),\n",
        "    transforms.Normalize(mean=[0.485, 0.456, 0.406], std=[0.229, 0.224, 0.225])\n",
        "])\n",
        "\n",
        "# Define transformations for the validation data using the same settings as training\n",
        "test_transform = transforms.Compose([\n",
        "    transforms.Resize((256, 256)),\n",
        "    transforms.CenterCrop(224),\n",
        "    transforms.ToTensor(),\n",
        "    transforms.Normalize(mean=[0.485, 0.456, 0.406], std=[0.229, 0.224, 0.225])\n",
        "])"
      ]
    },
    {
      "cell_type": "code",
      "source": [
        "# Create instances of the dataset\n",
        "train_dataset = LandmarkImageDataset(\n",
        "    annotations_file=label_csv,\n",
        "    transform=train_transform,\n",
        "    id_path_mapping=train_img_id_to_path_mapping\n",
        ")\n",
        "test_dataset = LandmarkImageDataset(\n",
        "    annotations_file=label_csv,\n",
        "    transform=test_transform,\n",
        "    id_path_mapping=test_img_id_to_path_mapping\n",
        ")"
      ],
      "metadata": {
        "id": "YyipiPUumtxR"
      },
      "id": "YyipiPUumtxR",
      "execution_count": null,
      "outputs": []
    },
    {
      "cell_type": "code",
      "execution_count": null,
      "id": "ca7e5087",
      "metadata": {
        "id": "ca7e5087"
      },
      "outputs": [],
      "source": [
        "# Define the DataLoader\n",
        "train_loader = DataLoader(dataset=train_dataset, batch_size=BATCH_SIZE, shuffle=True, num_workers=NUM_WORKERS)\n",
        "test_loader = DataLoader(dataset=test_dataset, batch_size=BATCH_SIZE, shuffle=False, num_workers=NUM_WORKERS)"
      ]
    },
    {
      "cell_type": "code",
      "execution_count": null,
      "id": "36bf7a2c",
      "metadata": {
        "id": "36bf7a2c"
      },
      "outputs": [],
      "source": [
        "# Load the pretrained DenseNet model\n",
        "model = models.densenet121(pretrained=True)\n",
        "\n",
        "# Replace the classifier layer with a new one adapted to our task\n",
        "model.classifier = nn.Linear(model.classifier.in_features, NUM_CLASSES)"
      ]
    },
    {
      "cell_type": "code",
      "execution_count": null,
      "id": "5534e737",
      "metadata": {
        "id": "5534e737"
      },
      "outputs": [],
      "source": [
        "# Define the loss function and optimizer\n",
        "loss_fn = nn.CrossEntropyLoss()\n",
        "optimizer = optim.Adam(model.parameters(), lr=LR, weight_decay=WEIGHT_DECAY)\n",
        "scheduler = optim.lr_scheduler.CosineAnnealingLR(optimizer, T_max=len(train_loader) * NUM_EPOCHS, eta_min=1e-6)"
      ]
    },
    {
      "cell_type": "code",
      "source": [
        "device = torch.device('cuda' if torch.cuda.is_available() else 'cpu')\n",
        "model.to(device)\n",
        "path_to_save_model = '/content/drive/MyDrive/cs444-final-project/project/models/baselines/saved_models/DenseNet_best_model.pth'\n",
        "train_loss, train_gap, train_accuracy = train(model, train_loader, loss_fn, optimizer, scheduler, device, path_to_save_model, NUM_EPOCHS)"
      ],
      "metadata": {
        "colab": {
          "base_uri": "https://localhost:8080/"
        },
        "id": "oeT1QjhSzUTe",
        "outputId": "668a6ded-c8d0-4a94-9296-c79d36244d8a"
      },
      "id": "oeT1QjhSzUTe",
      "execution_count": null,
      "outputs": [
        {
          "output_type": "stream",
          "name": "stderr",
          "text": [
            "\rEpoch 1/25:   0%|          | 0/421 [00:00<?, ?it/s]/usr/lib/python3.10/multiprocessing/popen_fork.py:66: RuntimeWarning: os.fork() was called. os.fork() is incompatible with multithreaded code, and JAX is multithreaded, so this will likely lead to a deadlock.\n",
            "  self.pid = os.fork()\n",
            "Epoch 1/25 - Batch 421/421 - Loss: 2.1556 (Avg: 1.8158) - GAP score: 0.1694 (Avg: 0.3972) - Accuracy: 36.36% (Avg: 47.42%) - LR: 0.000996: 100%|██████████| 421/421 [00:35<00:00, 11.86it/s]\n"
          ]
        },
        {
          "output_type": "stream",
          "name": "stdout",
          "text": [
            "Saved new best model with avg GAP: 0.3972\n",
            "      ==== GAP score in epoch 1: 0.3972 ===\n"
          ]
        },
        {
          "output_type": "stream",
          "name": "stderr",
          "text": [
            "Epoch 2/25 - Batch 421/421 - Loss: 1.3406 (Avg: 1.4315) - GAP score: 0.5227 (Avg: 0.5035) - Accuracy: 54.55% (Avg: 57.24%) - LR: 0.000984: 100%|██████████| 421/421 [00:34<00:00, 12.38it/s]\n"
          ]
        },
        {
          "output_type": "stream",
          "name": "stdout",
          "text": [
            "Saved new best model with avg GAP: 0.5035\n",
            "      ==== GAP score in epoch 2: 0.5035 ===\n"
          ]
        },
        {
          "output_type": "stream",
          "name": "stderr",
          "text": [
            "Epoch 3/25 - Batch 421/421 - Loss: 1.6379 (Avg: 1.2491) - GAP score: 0.1391 (Avg: 0.5675) - Accuracy: 36.36% (Avg: 62.38%) - LR: 0.000965: 100%|██████████| 421/421 [00:33<00:00, 12.45it/s]\n"
          ]
        },
        {
          "output_type": "stream",
          "name": "stdout",
          "text": [
            "Saved new best model with avg GAP: 0.5675\n",
            "      ==== GAP score in epoch 3: 0.5675 ===\n"
          ]
        },
        {
          "output_type": "stream",
          "name": "stderr",
          "text": [
            "Epoch 4/25 - Batch 421/421 - Loss: 1.8946 (Avg: 1.1402) - GAP score: 0.3553 (Avg: 0.5979) - Accuracy: 54.55% (Avg: 65.29%) - LR: 0.000938: 100%|██████████| 421/421 [00:34<00:00, 12.26it/s]\n"
          ]
        },
        {
          "output_type": "stream",
          "name": "stdout",
          "text": [
            "Saved new best model with avg GAP: 0.5979\n",
            "      ==== GAP score in epoch 4: 0.5979 ===\n"
          ]
        },
        {
          "output_type": "stream",
          "name": "stderr",
          "text": [
            "Epoch 5/25 - Batch 421/421 - Loss: 1.3054 (Avg: 1.0255) - GAP score: 0.4394 (Avg: 0.6401) - Accuracy: 45.45% (Avg: 68.70%) - LR: 0.000905: 100%|██████████| 421/421 [00:33<00:00, 12.47it/s]\n"
          ]
        },
        {
          "output_type": "stream",
          "name": "stdout",
          "text": [
            "Saved new best model with avg GAP: 0.6401\n",
            "      ==== GAP score in epoch 5: 0.6401 ===\n"
          ]
        },
        {
          "output_type": "stream",
          "name": "stderr",
          "text": [
            "Epoch 6/25 - Batch 421/421 - Loss: 0.8157 (Avg: 0.9598) - GAP score: 0.7273 (Avg: 0.6577) - Accuracy: 72.73% (Avg: 70.12%) - LR: 0.000865: 100%|██████████| 421/421 [00:34<00:00, 12.36it/s]\n"
          ]
        },
        {
          "output_type": "stream",
          "name": "stdout",
          "text": [
            "Saved new best model with avg GAP: 0.6577\n",
            "      ==== GAP score in epoch 6: 0.6577 ===\n"
          ]
        },
        {
          "output_type": "stream",
          "name": "stderr",
          "text": [
            "Epoch 7/25 - Batch 421/421 - Loss: 0.4589 (Avg: 0.8571) - GAP score: 0.7876 (Avg: 0.6954) - Accuracy: 81.82% (Avg: 73.42%) - LR: 0.000819: 100%|██████████| 421/421 [00:34<00:00, 12.35it/s]\n"
          ]
        },
        {
          "output_type": "stream",
          "name": "stdout",
          "text": [
            "Saved new best model with avg GAP: 0.6954\n",
            "      ==== GAP score in epoch 7: 0.6954 ===\n"
          ]
        },
        {
          "output_type": "stream",
          "name": "stderr",
          "text": [
            "Epoch 8/25 - Batch 421/421 - Loss: 0.7088 (Avg: 0.7652) - GAP score: 0.7169 (Avg: 0.7213) - Accuracy: 81.82% (Avg: 75.95%) - LR: 0.000768: 100%|██████████| 421/421 [00:33<00:00, 12.45it/s]\n"
          ]
        },
        {
          "output_type": "stream",
          "name": "stdout",
          "text": [
            "Saved new best model with avg GAP: 0.7213\n",
            "      ==== GAP score in epoch 8: 0.7213 ===\n"
          ]
        },
        {
          "output_type": "stream",
          "name": "stderr",
          "text": [
            "Epoch 9/25 - Batch 421/421 - Loss: 0.2240 (Avg: 0.6391) - GAP score: 0.9091 (Avg: 0.7695) - Accuracy: 90.91% (Avg: 80.06%) - LR: 0.000713: 100%|██████████| 421/421 [00:34<00:00, 12.34it/s]\n"
          ]
        },
        {
          "output_type": "stream",
          "name": "stdout",
          "text": [
            "Saved new best model with avg GAP: 0.7695\n",
            "      ==== GAP score in epoch 9: 0.7695 ===\n"
          ]
        },
        {
          "output_type": "stream",
          "name": "stderr",
          "text": [
            "Epoch 10/25 - Batch 421/421 - Loss: 0.7593 (Avg: 0.5316) - GAP score: 0.6250 (Avg: 0.8056) - Accuracy: 63.64% (Avg: 83.24%) - LR: 0.000655: 100%|██████████| 421/421 [00:33<00:00, 12.41it/s]\n"
          ]
        },
        {
          "output_type": "stream",
          "name": "stdout",
          "text": [
            "Saved new best model with avg GAP: 0.8056\n",
            "      ==== GAP score in epoch 10: 0.8056 ===\n"
          ]
        },
        {
          "output_type": "stream",
          "name": "stderr",
          "text": [
            "Epoch 11/25 - Batch 421/421 - Loss: 0.2122 (Avg: 0.4601) - GAP score: 1.0000 (Avg: 0.8249) - Accuracy: 100.00% (Avg: 84.98%) - LR: 0.000594: 100%|██████████| 421/421 [00:34<00:00, 12.29it/s]\n"
          ]
        },
        {
          "output_type": "stream",
          "name": "stdout",
          "text": [
            "Saved new best model with avg GAP: 0.8249\n",
            "      ==== GAP score in epoch 11: 0.8249 ===\n"
          ]
        },
        {
          "output_type": "stream",
          "name": "stderr",
          "text": [
            "Epoch 12/25 - Batch 421/421 - Loss: 0.6843 (Avg: 0.3111) - GAP score: 0.7916 (Avg: 0.8876) - Accuracy: 81.82% (Avg: 90.24%) - LR: 0.000532: 100%|██████████| 421/421 [00:33<00:00, 12.47it/s]\n"
          ]
        },
        {
          "output_type": "stream",
          "name": "stdout",
          "text": [
            "Saved new best model with avg GAP: 0.8876\n",
            "      ==== GAP score in epoch 12: 0.8876 ===\n"
          ]
        },
        {
          "output_type": "stream",
          "name": "stderr",
          "text": [
            "Epoch 13/25 - Batch 421/421 - Loss: 0.2699 (Avg: 0.2134) - GAP score: 0.9091 (Avg: 0.9288) - Accuracy: 90.91% (Avg: 93.76%) - LR: 0.000469: 100%|██████████| 421/421 [00:34<00:00, 12.26it/s]\n"
          ]
        },
        {
          "output_type": "stream",
          "name": "stdout",
          "text": [
            "Saved new best model with avg GAP: 0.9288\n",
            "      ==== GAP score in epoch 13: 0.9288 ===\n"
          ]
        },
        {
          "output_type": "stream",
          "name": "stderr",
          "text": [
            "Epoch 14/25 - Batch 421/421 - Loss: 0.2860 (Avg: 0.1388) - GAP score: 1.0000 (Avg: 0.9550) - Accuracy: 100.00% (Avg: 96.09%) - LR: 0.000407: 100%|██████████| 421/421 [00:34<00:00, 12.34it/s]\n"
          ]
        },
        {
          "output_type": "stream",
          "name": "stdout",
          "text": [
            "Saved new best model with avg GAP: 0.9550\n",
            "      ==== GAP score in epoch 14: 0.9550 ===\n"
          ]
        },
        {
          "output_type": "stream",
          "name": "stderr",
          "text": [
            "Epoch 15/25 - Batch 421/421 - Loss: 0.2343 (Avg: 0.0810) - GAP score: 0.8182 (Avg: 0.9768) - Accuracy: 81.82% (Avg: 97.98%) - LR: 0.000346: 100%|██████████| 421/421 [00:33<00:00, 12.52it/s]\n"
          ]
        },
        {
          "output_type": "stream",
          "name": "stdout",
          "text": [
            "Saved new best model with avg GAP: 0.9768\n",
            "      ==== GAP score in epoch 15: 0.9768 ===\n"
          ]
        },
        {
          "output_type": "stream",
          "name": "stderr",
          "text": [
            "Epoch 16/25 - Batch 421/421 - Loss: 0.0278 (Avg: 0.0489) - GAP score: 1.0000 (Avg: 0.9884) - Accuracy: 100.00% (Avg: 99.00%) - LR: 0.000288: 100%|██████████| 421/421 [00:34<00:00, 12.36it/s]\n"
          ]
        },
        {
          "output_type": "stream",
          "name": "stdout",
          "text": [
            "Saved new best model with avg GAP: 0.9884\n",
            "      ==== GAP score in epoch 16: 0.9884 ===\n"
          ]
        },
        {
          "output_type": "stream",
          "name": "stderr",
          "text": [
            "Epoch 17/25 - Batch 421/421 - Loss: 0.0073 (Avg: 0.0317) - GAP score: 1.0000 (Avg: 0.9949) - Accuracy: 100.00% (Avg: 99.52%) - LR: 0.000233: 100%|██████████| 421/421 [00:34<00:00, 12.27it/s]\n"
          ]
        },
        {
          "output_type": "stream",
          "name": "stdout",
          "text": [
            "Saved new best model with avg GAP: 0.9949\n",
            "      ==== GAP score in epoch 17: 0.9949 ===\n"
          ]
        },
        {
          "output_type": "stream",
          "name": "stderr",
          "text": [
            "Epoch 18/25 - Batch 421/421 - Loss: 0.0101 (Avg: 0.0181) - GAP score: 1.0000 (Avg: 0.9983) - Accuracy: 100.00% (Avg: 99.85%) - LR: 0.000182: 100%|██████████| 421/421 [00:33<00:00, 12.42it/s]\n"
          ]
        },
        {
          "output_type": "stream",
          "name": "stdout",
          "text": [
            "Saved new best model with avg GAP: 0.9983\n",
            "      ==== GAP score in epoch 18: 0.9983 ===\n"
          ]
        },
        {
          "output_type": "stream",
          "name": "stderr",
          "text": [
            "Epoch 19/25 - Batch 421/421 - Loss: 0.0124 (Avg: 0.0113) - GAP score: 1.0000 (Avg: 0.9990) - Accuracy: 100.00% (Avg: 99.91%) - LR: 0.000136: 100%|██████████| 421/421 [00:33<00:00, 12.40it/s]\n"
          ]
        },
        {
          "output_type": "stream",
          "name": "stdout",
          "text": [
            "Saved new best model with avg GAP: 0.9990\n",
            "      ==== GAP score in epoch 19: 0.9990 ===\n"
          ]
        },
        {
          "output_type": "stream",
          "name": "stderr",
          "text": [
            "Epoch 20/25 - Batch 421/421 - Loss: 0.0305 (Avg: 0.0096) - GAP score: 1.0000 (Avg: 0.9994) - Accuracy: 100.00% (Avg: 99.94%) - LR: 0.000096: 100%|██████████| 421/421 [00:34<00:00, 12.28it/s]\n"
          ]
        },
        {
          "output_type": "stream",
          "name": "stdout",
          "text": [
            "Saved new best model with avg GAP: 0.9994\n",
            "      ==== GAP score in epoch 20: 0.9994 ===\n"
          ]
        },
        {
          "output_type": "stream",
          "name": "stderr",
          "text": [
            "Epoch 21/25 - Batch 421/421 - Loss: 0.0036 (Avg: 0.0079) - GAP score: 1.0000 (Avg: 0.9997) - Accuracy: 100.00% (Avg: 99.97%) - LR: 0.000063: 100%|██████████| 421/421 [00:34<00:00, 12.37it/s]\n"
          ]
        },
        {
          "output_type": "stream",
          "name": "stdout",
          "text": [
            "Saved new best model with avg GAP: 0.9997\n",
            "      ==== GAP score in epoch 21: 0.9997 ===\n"
          ]
        },
        {
          "output_type": "stream",
          "name": "stderr",
          "text": [
            "Epoch 22/25 - Batch 421/421 - Loss: 0.0400 (Avg: 0.0064) - GAP score: 1.0000 (Avg: 0.9997) - Accuracy: 100.00% (Avg: 99.97%) - LR: 0.000036: 100%|██████████| 421/421 [00:34<00:00, 12.21it/s]\n"
          ]
        },
        {
          "output_type": "stream",
          "name": "stdout",
          "text": [
            "      ==== GAP score in epoch 22: 0.9997 ===\n"
          ]
        },
        {
          "output_type": "stream",
          "name": "stderr",
          "text": [
            "Epoch 23/25 - Batch 421/421 - Loss: 0.0033 (Avg: 0.0057) - GAP score: 1.0000 (Avg: 0.9997) - Accuracy: 100.00% (Avg: 99.97%) - LR: 0.000017: 100%|██████████| 421/421 [00:34<00:00, 12.34it/s]\n"
          ]
        },
        {
          "output_type": "stream",
          "name": "stdout",
          "text": [
            "      ==== GAP score in epoch 23: 0.9997 ===\n"
          ]
        },
        {
          "output_type": "stream",
          "name": "stderr",
          "text": [
            "Epoch 24/25 - Batch 421/421 - Loss: 0.0008 (Avg: 0.0051) - GAP score: 1.0000 (Avg: 0.9996) - Accuracy: 100.00% (Avg: 99.96%) - LR: 0.000005: 100%|██████████| 421/421 [00:34<00:00, 12.25it/s]\n"
          ]
        },
        {
          "output_type": "stream",
          "name": "stdout",
          "text": [
            "      ==== GAP score in epoch 24: 0.9996 ===\n"
          ]
        },
        {
          "output_type": "stream",
          "name": "stderr",
          "text": [
            "Epoch 25/25 - Batch 421/421 - Loss: 0.0051 (Avg: 0.0050) - GAP score: 1.0000 (Avg: 0.9997) - Accuracy: 100.00% (Avg: 99.97%) - LR: 0.000001: 100%|██████████| 421/421 [00:33<00:00, 12.38it/s]"
          ]
        },
        {
          "output_type": "stream",
          "name": "stdout",
          "text": [
            "      ==== GAP score in epoch 25: 0.9997 ===\n"
          ]
        },
        {
          "output_type": "stream",
          "name": "stderr",
          "text": [
            "\n"
          ]
        }
      ]
    },
    {
      "cell_type": "code",
      "execution_count": null,
      "id": "23ca5596",
      "metadata": {
        "id": "23ca5596",
        "colab": {
          "base_uri": "https://localhost:8080/"
        },
        "outputId": "0914f81f-3cde-4767-8576-5af020f7e072"
      },
      "outputs": [
        {
          "output_type": "display_data",
          "data": {
            "text/plain": [
              "<Figure size 1000x500 with 2 Axes>"
            ],
            "image/png": "[encoded data removed]"
          },
          "metadata": {}
        },
        {
          "output_type": "stream",
          "name": "stdout",
          "text": [
            "maximum GAP score achieved with 99.9703% at epoch 21\n"
          ]
        }
      ],
      "source": [
        "import numpy as np\n",
        "plot_metrics(train_loss, train_gap)\n",
        "print(f\"maximum GAP score achieved with {round(max(train_gap), 6) * 100}% at epoch {np.argmax(train_gap) + 1}\")"
      ]
    },
    {
      "cell_type": "code",
      "source": [
        "test_loss, test_accuracy = evaluate_model(model, test_loader, loss_fn, device)"
      ],
      "metadata": {
        "colab": {
          "base_uri": "https://localhost:8080/"
        },
        "id": "kpYagUy-JDf3",
        "outputId": "560319a7-22e7-485e-ab5b-03cdfaa56752"
      },
      "id": "kpYagUy-JDf3",
      "execution_count": null,
      "outputs": [
        {
          "output_type": "stream",
          "name": "stderr",
          "text": [
            "Evaluating: 100%|██████████| 46/46 [00:03<00:00, 14.42it/s, avg_loss=0.0736, avg_acc=0.75]"
          ]
        },
        {
          "output_type": "stream",
          "name": "stdout",
          "text": [
            "\n",
            " Test Loss: 1.1754250830930213, Accuracy: 0.7496598639455782\n"
          ]
        },
        {
          "output_type": "stream",
          "name": "stderr",
          "text": [
            "\n"
          ]
        }
      ]
    },
    {
      "cell_type": "code",
      "source": [
        "path_to_save_log = \"/content/drive/MyDrive/cs444-final-project/project/models/baselines/train_logs/DenseNet_base_ep=24_best_model_log.json\"\n",
        "save_metrics(train_loss, train_accuracy, train_gap, path_to_save_log)"
      ],
      "metadata": {
        "id": "WIWQSNwi5PIx"
      },
      "id": "WIWQSNwi5PIx",
      "execution_count": null,
      "outputs": []
    }
  ],
  "metadata": {
    "colab": {
      "provenance": [],
      "machine_shape": "hm",
      "gpuType": "A100"
    },
    "language_info": {
      "name": "python"
    },
    "kernelspec": {
      "name": "python3",
      "display_name": "Python 3"
    },
    "accelerator": "GPU"
  },
  "nbformat": 4,
  "nbformat_minor": 5
}