{
  "cells": [
    {
      "cell_type": "code",
      "execution_count": 2,
      "metadata": {
        "colab": {
          "base_uri": "https://localhost:8080/"
        },
        "id": "_TsIYfIHEDwK",
        "outputId": "807b4102-925f-4404-aa32-9f125b6a3c57"
      },
      "outputs": [
        {
          "name": "stdout",
          "output_type": "stream",
          "text": [
            "Drive already mounted at /content/drive; to attempt to forcibly remount, call drive.mount(\"/content/drive\", force_remount=True).\n"
          ]
        }
      ],
      "source": [
        "from google.colab import drive\n",
        "drive.mount(\"/content/drive\")"
      ]
    },
    {
      "cell_type": "code",
      "execution_count": 7,
      "metadata": {
        "id": "VdCcxbFJECcc"
      },
      "outputs": [],
      "source": [
        "import pandas as pd\n",
        "import os\n",
        "import shutil\n",
        "import glob\n",
        "\n",
        "\n",
        "def select_train_labels(n=50, full_csv_path=\"\", downloaded_img_ids=\"\"):\n",
        "    downloaded_img_ids = pd.read_csv(downloaded_img_ids)\n",
        "    full_train_data = pd.read_csv(full_csv_path)\n",
        "\n",
        "    # Select only downloaded img ids\n",
        "    downloaded_img_ids = downloaded_img_ids['id'].tolist()\n",
        "    downloaded_train_data = full_train_data[full_train_data['id'].isin(downloaded_img_ids)]\n",
        "\n",
        "    # Count and sort the downloaded training data\n",
        "    label_counts = downloaded_train_data.groupby(\"landmark_id\").size().sort_values(ascending=False)\n",
        "\n",
        "    selected_labels = label_counts.head(n).index.tolist()\n",
        "\n",
        "    selected_train_data = downloaded_train_data[downloaded_train_data['landmark_id'].isin(selected_labels)]\n",
        "    selected_train_data.to_csv('/content/drive/MyDrive/cs444-final-project/project/data/train/selected_train.csv', index=False)\n",
        "\n",
        "    labels_and_count = [(landmark_id, count) for landmark_id, count in label_counts.head(n).items()]\n",
        "\n",
        "    print(f\"Size of selected_train_data: {selected_train_data.shape[0]}\")\n",
        "    # print(\"List of image IDs and their occurrences\")\n",
        "    # print(labels_and_count)\n",
        "    # return selected_labels\n",
        "\n",
        "\n",
        "\n",
        "\"\"\"\n",
        "    Moves selected training images from the src_data_path to dest_data_path\n",
        "\"\"\"\n",
        "def gather_train_data(selected_train_data=\"\", src_data_path=\"\", dest_data_path=\"\"):\n",
        "    if not os.path.exists(dest_data_path):\n",
        "        os.makedirs(dest_data_path)\n",
        "\n",
        "    image_formats = ['.jpg', '.jpeg', '.png']\n",
        "    image_file_paths = []\n",
        "\n",
        "    # Gets list of img ids (names)\n",
        "    train_data = pd.read_csv(selected_train_data)\n",
        "    image_ids = set(train_data[\"id\"].tolist())\n",
        "\n",
        "    print(f\"Length of selected train data img ids: {len(image_ids)}\")\n",
        "    for root, dirs, files in os.walk(src_data_path):\n",
        "        for file in files:\n",
        "            if file.lower().endswith('.jpg'):\n",
        "                file_name = os.path.splitext(file)[0]\n",
        "                # Ensures that img is within selected pool\n",
        "                if file_name in image_ids:\n",
        "                    image_file_paths.append(os.path.join(root, file))\n",
        "\n",
        "    print(f\"Length of selected train data files: {len(image_file_paths)}\")\n",
        "    print(f\"Moving these data to {dest_data_path}...\")\n",
        "\n",
        "    for image_file_path in image_file_paths:\n",
        "        # Move the image file to the destination path\n",
        "        shutil.move(image_file_path, dest_data_path)\n",
        "\n",
        "\n",
        "\n",
        "def info_downloaded_train_data(full_csv_path=\"\", downloaded_train=\"\"):\n",
        "    downloaded_img_ids = []\n",
        "\n",
        "    for root, dirs, files in os.walk(downloaded_train):\n",
        "        for file in files:\n",
        "            if file.lower().endswith('.jpg'):\n",
        "                file_name = os.path.splitext(file)[0]\n",
        "                downloaded_img_ids.append(file_name)\n",
        "\n",
        "    # df = pd.DataFrame(downloaded_img_ids, columns=['id'])\n",
        "\n",
        "    # Save the DataFrame as a CSV file\n",
        "    # df.to_csv('/content/drive/MyDrive/cs444-final-project/project/data/downloaded_img_ids.csv', index=False)\n",
        "    print(f\"Number of imgs present in training data: {len(downloaded_img_ids)}\")\n",
        "    # return\n",
        "\n",
        "    full_train_data = pd.read_csv(full_csv_path)\n",
        "\n",
        "    # Select only downloaded img ids\n",
        "    downloaded_train_data = full_train_data[full_train_data['id'].isin(downloaded_img_ids)]\n",
        "\n",
        "    # Count and sort the downloaded training data\n",
        "    label_counts = downloaded_train_data.groupby(\"landmark_id\").size().sort_values(ascending=False)\n",
        "\n",
        "    print(f\"Number of unique landmarks in downloaded data: {len(label_counts)}\")\n",
        "    min_labels = 0  # Start with 1 label\n",
        "    total_samples = downloaded_train_data.shape[0]\n",
        "\n",
        "    while min_labels <= len(label_counts):\n",
        "        samples = downloaded_train_data[downloaded_train_data['landmark_id'].isin(label_counts.head(min_labels).index)].shape[0]\n",
        "        coverage = samples / total_samples\n",
        "        print(f\"Top {min_labels} classes, coverage: {round(coverage * 100, 2)}%, with {samples} images\")\n",
        "        min_labels += 500\n",
        "        if coverage > 0.5:\n",
        "          break\n"
      ]
    },
    {
      "cell_type": "code",
      "execution_count": 36,
      "metadata": {
        "colab": {
          "base_uri": "https://localhost:8080/"
        },
        "id": "TXkezZNKP_IJ",
        "outputId": "a1e779bc-f48b-46aa-e91c-0c601978c39e"
      },
      "outputs": [
        {
          "name": "stdout",
          "output_type": "stream",
          "text": [
            "Number of imgs present in training data: 537499\n",
            "Number of unique landmarks in downloaded data: 130173\n",
            "Top 0 classes, coverage: 0.0%, with 0 images\n",
            "Top 500 classes, coverage: 7.67%, with 41233 images\n",
            "Top 1000 classes, coverage: 11.35%, with 60989 images\n",
            "Top 1500 classes, coverage: 14.22%, with 76442 images\n",
            "Top 2000 classes, coverage: 16.66%, with 89565 images\n",
            "Top 2500 classes, coverage: 18.84%, with 101283 images\n",
            "Top 3000 classes, coverage: 20.83%, with 111971 images\n",
            "Top 3500 classes, coverage: 22.65%, with 121742 images\n",
            "Top 4000 classes, coverage: 24.35%, with 130894 images\n",
            "Top 4500 classes, coverage: 25.94%, with 139453 images\n",
            "Top 5000 classes, coverage: 27.44%, with 147508 images\n",
            "Top 5500 classes, coverage: 28.87%, with 155151 images\n",
            "Top 6000 classes, coverage: 30.22%, with 162455 images\n",
            "Top 6500 classes, coverage: 31.53%, with 169455 images\n",
            "Top 7000 classes, coverage: 32.75%, with 176013 images\n",
            "Top 7500 classes, coverage: 33.95%, with 182496 images\n",
            "Top 8000 classes, coverage: 35.07%, with 188496 images\n",
            "Top 8500 classes, coverage: 36.19%, with 194496 images\n",
            "Top 9000 classes, coverage: 37.22%, with 200038 images\n",
            "Top 9500 classes, coverage: 38.24%, with 205538 images\n",
            "Top 10000 classes, coverage: 39.23%, with 210881 images\n",
            "Top 10500 classes, coverage: 40.16%, with 215881 images\n",
            "Top 11000 classes, coverage: 41.09%, with 220881 images\n",
            "Top 11500 classes, coverage: 42.02%, with 225870 images\n",
            "Top 12000 classes, coverage: 42.86%, with 230370 images\n",
            "Top 12500 classes, coverage: 43.7%, with 234870 images\n",
            "Top 13000 classes, coverage: 44.53%, with 239370 images\n",
            "Top 13500 classes, coverage: 45.37%, with 243870 images\n",
            "Top 14000 classes, coverage: 46.14%, with 247983 images\n",
            "Top 14500 classes, coverage: 46.88%, with 251983 images\n",
            "Top 15000 classes, coverage: 47.62%, with 255983 images\n",
            "Top 15500 classes, coverage: 48.37%, with 259983 images\n",
            "Top 16000 classes, coverage: 49.11%, with 263983 images\n",
            "Top 16500 classes, coverage: 49.83%, with 267810 images\n",
            "Top 17000 classes, coverage: 50.48%, with 271310 images\n"
          ]
        }
      ],
      "source": [
        "full_train_data = \"/content/drive/MyDrive/cs444-final-project/project/data/labels/train.csv\"\n",
        "train_folder = \"/content/drive/MyDrive/cs444-final-project/project/data/train\"\n",
        "info_downloaded_train_data(full_csv_path=full_train_data, downloaded_train=train_folder)\n"
      ]
    },
    {
      "cell_type": "code",
      "execution_count": 4,
      "metadata": {
        "colab": {
          "base_uri": "https://localhost:8080/"
        },
        "id": "AT_ym6W6EUXa",
        "outputId": "3eb8e6d8-ac27-418d-ba6a-8483d958af85"
      },
      "outputs": [
        {
          "name": "stdout",
          "output_type": "stream",
          "text": [
            "Size of selected_train_data: 89565\n"
          ]
        }
      ],
      "source": [
        "downloaded_img_ids = \"/content/drive/MyDrive/cs444-final-project/project/data/downloaded_img_ids.csv\"\n",
        "full_train_data = \"/content/drive/MyDrive/cs444-final-project/project/data/train/train.csv\"\n",
        "select_train_labels(n=2000, full_csv_path=full_train_data, downloaded_img_ids=downloaded_img_ids)\n"
      ]
    },
    {
      "cell_type": "code",
      "execution_count": 8,
      "metadata": {
        "colab": {
          "base_uri": "https://localhost:8080/"
        },
        "id": "Kt4Mz1xjAm-U",
        "outputId": "13c66f8b-54a8-4881-ed6b-3b1f9cc57726"
      },
      "outputs": [
        {
          "name": "stdout",
          "output_type": "stream",
          "text": [
            "Length of selected train data img ids: 89565\n",
            "Length of selected train data files: 89565\n",
            "Moving these data to /content/drive/MyDrive/cs444-final-project/project/data/selected_train...\n"
          ]
        }
      ],
      "source": [
        "selected_train_data = \"/content/drive/MyDrive/cs444-final-project/project/data/train/selected_train.csv\"\n",
        "src_data_path = \"/content/drive/MyDrive/cs444-final-project/project/data/train\"\n",
        "dest_data_path = \"/content/drive/MyDrive/cs444-final-project/project/data/selected_train\"\n",
        "gather_train_data(selected_train_data=selected_train_data, src_data_path=src_data_path, dest_data_path=dest_data_path)\n"
      ]
    },
    {
      "cell_type": "code",
      "execution_count": null,
      "metadata": {
        "id": "jookgGH2F3YB"
      },
      "outputs": [],
      "source": [
        "\n"
      ]
    },
    {
      "cell_type": "code",
      "execution_count": 5,
      "metadata": {
        "colab": {
          "base_uri": "https://localhost:8080/"
        },
        "id": "JbTX7L73mYuo",
        "outputId": "3ca00cd9-d497-493e-8b54-060c0bed2e1c"
      },
      "outputs": [
        {
          "name": "stdout",
          "output_type": "stream",
          "text": [
            "Number of JPG files: 7083\n"
          ]
        }
      ],
      "source": [
        "import glob\n",
        "num_jpg_files = len(glob.glob('/Users/ruipenghan/Desktop/Academics/11. SP 2024/CS 444/project/data/selected_train/*.jpg'))\n",
        "print(f\"Number of JPG files: {num_jpg_files}\")\n"
      ]
    },
    {
      "cell_type": "code",
      "execution_count": null,
      "metadata": {
        "id": "AYZ53Km6qkK5"
      },
      "outputs": [],
      "source": []
    }
  ],
  "metadata": {
    "colab": {
      "provenance": []
    },
    "kernelspec": {
      "display_name": "Python 3",
      "name": "python3"
    },
    "language_info": {
      "codemirror_mode": {
        "name": "ipython",
        "version": 3
      },
      "file_extension": ".py",
      "mimetype": "text/x-python",
      "name": "python",
      "nbconvert_exporter": "python",
      "pygments_lexer": "ipython3",
      "version": "3.11.5"
    }
  },
  "nbformat": 4,
  "nbformat_minor": 0
}
